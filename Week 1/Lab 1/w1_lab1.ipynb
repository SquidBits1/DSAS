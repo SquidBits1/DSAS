{
 "cells": [
  {
   "cell_type": "markdown",
   "id": "4eeffb5a",
   "metadata": {},
   "source": [
    "## Week 1 lab 1: Data tables and summary statistics"
   ]
  },
  {
   "cell_type": "markdown",
   "id": "ac568485",
   "metadata": {},
   "source": [
    "### General note \n",
    "Lab exercises in the first part of this unit (\"Data Science\") were designed on Python having the __pandas__, __numpy__, __matplotlib__ and __sklearn__ packages installed. It is possible that for some commands you need to have the latest version of these packages/libraries installed on your machine. \n",
    "Finally, it is likely that you are new to some of the packages/commands/objects/data structures used for solving the lab excersies. In this case it is recommended to search for the documentations of these on the corresponding package's (e.g. numpy, pandas etc) website to familiarise yourself with these commands. An nice introduction to the basics of using the above Python packages (in the form of Jupyter notebooks) are also included in this online, free book which is highly recommended to look if you're new to them: https://github.com/jakevdp/PythonDataScienceHandbook.\n",
    "\n",
    "The unit tutors will also be available to provide help in the lab and also on the unit's online forum. \n",
    "\n",
    "__This lab__: During this exercise you will practice skills to basic data import and analysis using __pandas__ and __numpy__ packages. \n"
   ]
  },
  {
   "cell_type": "code",
   "execution_count": 1,
   "id": "8de21de8",
   "metadata": {},
   "outputs": [
    {
     "name": "stdout",
     "output_type": "stream",
     "text": [
      "\f\n",
      "Nothing done.\n"
     ]
    }
   ],
   "source": [
    "# Clean the workspace and screen\n",
    "%clear\n",
    "%reset\n",
    "import matplotlib.pyplot as plt\n",
    "plt.close('all')"
   ]
  },
  {
   "cell_type": "code",
   "execution_count": 2,
   "id": "9b5645ff",
   "metadata": {},
   "outputs": [],
   "source": [
    "import pandas as pd\n",
    "import numpy as np"
   ]
  },
  {
   "cell_type": "markdown",
   "id": "42d295d3",
   "metadata": {},
   "source": [
    "## Loading table data"
   ]
  },
  {
   "cell_type": "markdown",
   "id": "c1de89a3",
   "metadata": {},
   "source": [
    "Load (read) the titanic.csv file into the Python's workspace. Python can read csv tables with the help of pandas. For this use pandas' ```read_csv``` command i.e. ```pd.read_csv('titanic.csv')```, to load data into a pandas' table object (here, the table is named T). "
   ]
  },
  {
   "cell_type": "code",
   "execution_count": 4,
   "id": "0bfab6b2",
   "metadata": {},
   "outputs": [],
   "source": [
    "T = pd.read_csv('titanic.csv')"
   ]
  },
  {
   "cell_type": "markdown",
   "id": "7f07f51f",
   "metadata": {},
   "source": [
    "Use pandas's ```head``` command to display the head of this dataset i.e. a few first rows of the table (you can specify the number of elements to see by passing an natural number as an argument). You should be able to see the variables each column represents alongside their values in each row (i.e., each sample/ passenger item)."
   ]
  },
  {
   "cell_type": "code",
   "execution_count": 7,
   "id": "7cdc2b18",
   "metadata": {},
   "outputs": [
    {
     "data": {
      "text/html": [
       "<div>\n",
       "<style scoped>\n",
       "    .dataframe tbody tr th:only-of-type {\n",
       "        vertical-align: middle;\n",
       "    }\n",
       "\n",
       "    .dataframe tbody tr th {\n",
       "        vertical-align: top;\n",
       "    }\n",
       "\n",
       "    .dataframe thead th {\n",
       "        text-align: right;\n",
       "    }\n",
       "</style>\n",
       "<table border=\"1\" class=\"dataframe\">\n",
       "  <thead>\n",
       "    <tr style=\"text-align: right;\">\n",
       "      <th></th>\n",
       "      <th>Survived</th>\n",
       "      <th>Pclass</th>\n",
       "      <th>Name</th>\n",
       "      <th>Sex</th>\n",
       "      <th>Age</th>\n",
       "      <th>Siblings/Spouses Aboard</th>\n",
       "      <th>Parents/Children Aboard</th>\n",
       "      <th>Fare</th>\n",
       "    </tr>\n",
       "  </thead>\n",
       "  <tbody>\n",
       "    <tr>\n",
       "      <th>0</th>\n",
       "      <td>0</td>\n",
       "      <td>3</td>\n",
       "      <td>Mr. Owen Harris Braund</td>\n",
       "      <td>male</td>\n",
       "      <td>22.0</td>\n",
       "      <td>1</td>\n",
       "      <td>0</td>\n",
       "      <td>7.2500</td>\n",
       "    </tr>\n",
       "    <tr>\n",
       "      <th>1</th>\n",
       "      <td>1</td>\n",
       "      <td>1</td>\n",
       "      <td>Mrs. John Bradley (Florence Briggs Thayer) Cum...</td>\n",
       "      <td>female</td>\n",
       "      <td>38.0</td>\n",
       "      <td>1</td>\n",
       "      <td>0</td>\n",
       "      <td>71.2833</td>\n",
       "    </tr>\n",
       "    <tr>\n",
       "      <th>2</th>\n",
       "      <td>1</td>\n",
       "      <td>3</td>\n",
       "      <td>Miss. Laina Heikkinen</td>\n",
       "      <td>female</td>\n",
       "      <td>26.0</td>\n",
       "      <td>0</td>\n",
       "      <td>0</td>\n",
       "      <td>7.9250</td>\n",
       "    </tr>\n",
       "    <tr>\n",
       "      <th>3</th>\n",
       "      <td>1</td>\n",
       "      <td>1</td>\n",
       "      <td>Mrs. Jacques Heath (Lily May Peel) Futrelle</td>\n",
       "      <td>female</td>\n",
       "      <td>35.0</td>\n",
       "      <td>1</td>\n",
       "      <td>0</td>\n",
       "      <td>53.1000</td>\n",
       "    </tr>\n",
       "    <tr>\n",
       "      <th>4</th>\n",
       "      <td>0</td>\n",
       "      <td>3</td>\n",
       "      <td>Mr. William Henry Allen</td>\n",
       "      <td>male</td>\n",
       "      <td>35.0</td>\n",
       "      <td>0</td>\n",
       "      <td>0</td>\n",
       "      <td>8.0500</td>\n",
       "    </tr>\n",
       "    <tr>\n",
       "      <th>5</th>\n",
       "      <td>0</td>\n",
       "      <td>3</td>\n",
       "      <td>Mr. James Moran</td>\n",
       "      <td>male</td>\n",
       "      <td>27.0</td>\n",
       "      <td>0</td>\n",
       "      <td>0</td>\n",
       "      <td>8.4583</td>\n",
       "    </tr>\n",
       "    <tr>\n",
       "      <th>6</th>\n",
       "      <td>0</td>\n",
       "      <td>1</td>\n",
       "      <td>Mr. Timothy J McCarthy</td>\n",
       "      <td>male</td>\n",
       "      <td>54.0</td>\n",
       "      <td>0</td>\n",
       "      <td>0</td>\n",
       "      <td>51.8625</td>\n",
       "    </tr>\n",
       "    <tr>\n",
       "      <th>7</th>\n",
       "      <td>0</td>\n",
       "      <td>3</td>\n",
       "      <td>Master. Gosta Leonard Palsson</td>\n",
       "      <td>male</td>\n",
       "      <td>2.0</td>\n",
       "      <td>3</td>\n",
       "      <td>1</td>\n",
       "      <td>21.0750</td>\n",
       "    </tr>\n",
       "  </tbody>\n",
       "</table>\n",
       "</div>"
      ],
      "text/plain": [
       "   Survived  Pclass                                               Name  \\\n",
       "0         0       3                             Mr. Owen Harris Braund   \n",
       "1         1       1  Mrs. John Bradley (Florence Briggs Thayer) Cum...   \n",
       "2         1       3                              Miss. Laina Heikkinen   \n",
       "3         1       1        Mrs. Jacques Heath (Lily May Peel) Futrelle   \n",
       "4         0       3                            Mr. William Henry Allen   \n",
       "5         0       3                                    Mr. James Moran   \n",
       "6         0       1                             Mr. Timothy J McCarthy   \n",
       "7         0       3                      Master. Gosta Leonard Palsson   \n",
       "\n",
       "      Sex   Age  Siblings/Spouses Aboard  Parents/Children Aboard     Fare  \n",
       "0    male  22.0                        1                        0   7.2500  \n",
       "1  female  38.0                        1                        0  71.2833  \n",
       "2  female  26.0                        0                        0   7.9250  \n",
       "3  female  35.0                        1                        0  53.1000  \n",
       "4    male  35.0                        0                        0   8.0500  \n",
       "5    male  27.0                        0                        0   8.4583  \n",
       "6    male  54.0                        0                        0  51.8625  \n",
       "7    male   2.0                        3                        1  21.0750  "
      ]
     },
     "execution_count": 7,
     "metadata": {},
     "output_type": "execute_result"
    }
   ],
   "source": [
    "T.head(8)"
   ]
  },
  {
   "cell_type": "markdown",
   "id": "73c62900",
   "metadata": {},
   "source": [
    "## Accessing the table columns/rows"
   ]
  },
  {
   "cell_type": "markdown",
   "id": "7c0307ab",
   "metadata": {},
   "source": [
    "To access entries of each column you can either use their column index number or the column's name in the table. Assume you want to access the table's column about the journey outcome, i.e. the variable ```Survived```, and put it in a new variable ```y```. Then using the column name you can run ```y = T['Survived']``` or ```y = T.Survived```. Alternatively, since Survived is the first columns of this table, you can access it via column indexing using ```iloc``` i.e. ```y = T.iloc[:,0]```. You can also do slicing i.e. ```y = T.iloc[:,[0,1]]``` would extract the first 2 columns of this table. The output will be another table object because the columns could potentially have mixed variable types (numerical, strings etc). If all columns are numerical values, then you can turn ```y``` into a matrix using ```to_numpy()``` command i.e. ```y = T.iloc[:,[0,1]].to_numpy()```. (More details on data type conversion commands can be found at: https://pandas.pydata.org/docs/user_guide/indexing.html). Similarly, ```y = T.iloc[:,3:-1].to_numpy()``` would extract columns 4 and onward till the end, into a matrix y. Row indexing is also possible. For instance, ```y = T.iloc([0, 4, 5],:)``` would extract table rows 1 5 and 6 into a new sub-table."
   ]
  },
  {
   "cell_type": "markdown",
   "id": "872ce1b1",
   "metadata": {},
   "source": [
    "Now, use numpy's ```randint``` command to sub-select 5 passengers (rows of the table) at random and display their data. NB: randint might have repetitions, and thefore another alternative is to use numpy's ```permutation``` command."
   ]
  },
  {
   "cell_type": "code",
   "execution_count": 83,
   "id": "68422973-5b33-4d3c-8452-99c8f089ee25",
   "metadata": {},
   "outputs": [
    {
     "data": {
      "text/html": [
       "<div>\n",
       "<style scoped>\n",
       "    .dataframe tbody tr th:only-of-type {\n",
       "        vertical-align: middle;\n",
       "    }\n",
       "\n",
       "    .dataframe tbody tr th {\n",
       "        vertical-align: top;\n",
       "    }\n",
       "\n",
       "    .dataframe thead th {\n",
       "        text-align: right;\n",
       "    }\n",
       "</style>\n",
       "<table border=\"1\" class=\"dataframe\">\n",
       "  <thead>\n",
       "    <tr style=\"text-align: right;\">\n",
       "      <th></th>\n",
       "      <th>Survived</th>\n",
       "      <th>Pclass</th>\n",
       "      <th>Name</th>\n",
       "      <th>Sex</th>\n",
       "      <th>Age</th>\n",
       "      <th>Siblings/Spouses Aboard</th>\n",
       "      <th>Parents/Children Aboard</th>\n",
       "      <th>Fare</th>\n",
       "    </tr>\n",
       "  </thead>\n",
       "  <tbody>\n",
       "    <tr>\n",
       "      <th>306</th>\n",
       "      <td>0</td>\n",
       "      <td>2</td>\n",
       "      <td>Mr. Samuel Abelson</td>\n",
       "      <td>male</td>\n",
       "      <td>30.0</td>\n",
       "      <td>1</td>\n",
       "      <td>0</td>\n",
       "      <td>24.0000</td>\n",
       "    </tr>\n",
       "    <tr>\n",
       "      <th>518</th>\n",
       "      <td>0</td>\n",
       "      <td>3</td>\n",
       "      <td>Mr. Janko Vovk</td>\n",
       "      <td>male</td>\n",
       "      <td>22.0</td>\n",
       "      <td>0</td>\n",
       "      <td>0</td>\n",
       "      <td>7.8958</td>\n",
       "    </tr>\n",
       "    <tr>\n",
       "      <th>768</th>\n",
       "      <td>0</td>\n",
       "      <td>2</td>\n",
       "      <td>Mrs. (Mary) Mack</td>\n",
       "      <td>female</td>\n",
       "      <td>57.0</td>\n",
       "      <td>0</td>\n",
       "      <td>0</td>\n",
       "      <td>10.5000</td>\n",
       "    </tr>\n",
       "    <tr>\n",
       "      <th>239</th>\n",
       "      <td>0</td>\n",
       "      <td>3</td>\n",
       "      <td>Miss. Thamine Zabour</td>\n",
       "      <td>female</td>\n",
       "      <td>19.0</td>\n",
       "      <td>1</td>\n",
       "      <td>0</td>\n",
       "      <td>14.4542</td>\n",
       "    </tr>\n",
       "    <tr>\n",
       "      <th>795</th>\n",
       "      <td>0</td>\n",
       "      <td>3</td>\n",
       "      <td>Mrs. Jean Baptiste (Rosalie Paula Govaert) Van...</td>\n",
       "      <td>female</td>\n",
       "      <td>30.0</td>\n",
       "      <td>1</td>\n",
       "      <td>1</td>\n",
       "      <td>24.1500</td>\n",
       "    </tr>\n",
       "  </tbody>\n",
       "</table>\n",
       "</div>"
      ],
      "text/plain": [
       "     Survived  Pclass                                               Name  \\\n",
       "306         0       2                                 Mr. Samuel Abelson   \n",
       "518         0       3                                     Mr. Janko Vovk   \n",
       "768         0       2                                   Mrs. (Mary) Mack   \n",
       "239         0       3                               Miss. Thamine Zabour   \n",
       "795         0       3  Mrs. Jean Baptiste (Rosalie Paula Govaert) Van...   \n",
       "\n",
       "        Sex   Age  Siblings/Spouses Aboard  Parents/Children Aboard     Fare  \n",
       "306    male  30.0                        1                        0  24.0000  \n",
       "518    male  22.0                        0                        0   7.8958  \n",
       "768  female  57.0                        0                        0  10.5000  \n",
       "239  female  19.0                        1                        0  14.4542  \n",
       "795  female  30.0                        1                        1  24.1500  "
      ]
     },
     "execution_count": 83,
     "metadata": {},
     "output_type": "execute_result"
    }
   ],
   "source": [
    "#your code\n",
    "random_order = np.random.permutation(len(T))[:5]\n",
    "random_five_passengers = T.iloc[random_order,:]\n",
    "\n",
    "random_five_passengers.head()\n",
    "\n"
   ]
  },
  {
   "cell_type": "markdown",
   "id": "dc30c724",
   "metadata": {},
   "source": [
    "Use pandas's logical commands (see: https://pandas.pydata.org/docs/user_guide/indexing.html) along with the table access operations above to create a binary vector named first (with size equal to the number of passengers) whose entries are 1 for passengers that had a 1st class ticket and zero otherwise i.e. runing ```first = (T['Pclass']==1)```. This would create a form of an indicator vector. Similarly, create binary indicator vectors 'second' and 'third' for passengers on 2nd and 3rd class tickets. Also create indicator vectors 'male' and 'female' e.g. ```male = (T['Sex']==\"male\")``` and ```female = (not male)```. Similarly, create an indicator vector for the 'survived' passengers. Finally, create new indicator vectors 'child', 'young' and 'old' for passengers less than 18, between 18-40, and more than 40 year old, respectively."
   ]
  },
  {
   "cell_type": "code",
   "execution_count": 122,
   "id": "15e8c1c2",
   "metadata": {},
   "outputs": [],
   "source": [
    "first  = (T['Pclass']==1)\n",
    "second = (T['Pclass']==2)\n",
    "third  = (T['Pclass']==3)\n",
    "male   = (T['Sex']=='male')\n",
    "female = (T['Sex']=='female')\n",
    "survived = (T['Survived']==1)\n",
    "child  = (T['Age']<18)\n",
    "young  = (T['Age']>=18) & (T['Age']<=40)\n",
    "old    = (T['Age']>40)\n"
   ]
  },
  {
   "cell_type": "markdown",
   "id": "1ba0bcc7",
   "metadata": {},
   "source": [
    "Use Python's boolean indexing on the indicator vectors built above, to build various sets of indices for the passengers that were on first, second, third class tickets i.e. ```first_idx = [index for index in range(len(T)) if first[index]]```. Similarly repeat this for 'male', 'female', 'survived', and 'child', 'young', 'old' passengers"
   ]
  },
  {
   "cell_type": "code",
   "execution_count": 123,
   "id": "2c13c1ae",
   "metadata": {},
   "outputs": [],
   "source": [
    "first_idx  = [index for index in range(len(T)) if first[index]]\n",
    "second_idx = [index for index in range(len(T)) if second[index]]\n",
    "third_idx  = [index for index in range(len(T)) if third[index]]\n",
    "male_idx   = [index for index in range(len(T)) if male[index]]\n",
    "female_idx = [index for index in range(len(T)) if female[index]]\n",
    "survived_idx = [index for index in range(len(T)) if survived[index]]\n",
    "child_idx  = [index for index in range(len(T)) if child[index]]\n",
    "young_idx  = [index for index in range(len(T)) if young[index]]\n",
    "old_idx    = [index for index in range(len(T)) if old[index]]"
   ]
  },
  {
   "cell_type": "markdown",
   "id": "4ea6bfcf",
   "metadata": {},
   "source": [
    "Use Python's set operation commands (e.g. intersection, union, difference, ...) to extract subset of indicies e.g. for passengers that were male and didn't survived. Use extracted subsets to compute and print out the following risk factors: the precentage of victims among male and female passnegers e.g. the probability that a passenger did not survived given that he was male. Also output the precentage (probability) of victims among the first, second and third class passnegers, as well as the children, young, and old passengers."
   ]
  },
  {
   "cell_type": "code",
   "execution_count": 144,
   "id": "9ef5f3ae",
   "metadata": {},
   "outputs": [],
   "source": [
    "# write code to compute variables risk_male, risk_female, risk_first, risk_second, risk_third, risk_child, risk_young, risk_old\n",
    "\n",
    "dead_male_idx = set(male_idx) - set(survived_idx)\n",
    "dead_female_idx = set(female_idx) - set(survived_idx)\n",
    "dead_first_idx = set(first_idx) - set(survived_idx)\n",
    "dead_second_idx = set(second_idx) - set(survived_idx)\n",
    "dead_third_idx = set(third_idx) - set(survived_idx)\n",
    "dead_child_idx = set(child_idx) - set(survived_idx)\n",
    "dead_young_idx = set(young_idx) - set(survived_idx)\n",
    "dead_old_idx = set(old_idx) - set(survived_idx)\n",
    "\n",
    "risk_male = len(dead_male_idx)/len(male_idx)\n",
    "risk_female = len(dead_female_idx)/len(female_idx)\n",
    "risk_first = len(dead_first_idx)/len(first_idx)\n",
    "risk_second = len(dead_second_idx)/len(second_idx)\n",
    "risk_third = len(dead_third_idx)/len(third_idx)\n",
    "risk_child = len(dead_child_idx)/len(child_idx)\n",
    "risk_young = len(dead_young_idx)/len(young_idx)\n",
    "risk_old = len(dead_old_idx)/len(old_idx)\n",
    "\n",
    "\n",
    "\n",
    "\n",
    "\n",
    "\n",
    "\n"
   ]
  },
  {
   "cell_type": "code",
   "execution_count": 145,
   "id": "7aa61ac1-c78e-4744-bba1-8222eeb31159",
   "metadata": {},
   "outputs": [
    {
     "name": "stdout",
     "output_type": "stream",
     "text": [
      "Risk male = 0.810 \n",
      "\n",
      "Risk female = 0.258 \n",
      "\n",
      "Risk first = 0.370 \n",
      "\n",
      "Risk second = 0.527 \n",
      "\n",
      "Risk third = 0.756 \n",
      "\n",
      "Risk child = 0.500 \n",
      "\n",
      "Risk young = 0.634 \n",
      "\n",
      "Risk old= 0.635 \n",
      "\n"
     ]
    }
   ],
   "source": [
    "#display risk values below\n",
    "print('Risk male = %.3f \\n' % risk_male)\n",
    "print('Risk female = %.3f \\n' % risk_female)\n",
    "print('Risk first = %.3f \\n' % risk_first)\n",
    "print('Risk second = %.3f \\n' % risk_second)\n",
    "print('Risk third = %.3f \\n' % risk_third)\n",
    "print('Risk child = %.3f \\n' % risk_child)\n",
    "print('Risk young = %.3f \\n' % risk_young)\n",
    "print('Risk old= %.3f \\n' % risk_old)"
   ]
  },
  {
   "cell_type": "markdown",
   "id": "67b4a57d",
   "metadata": {},
   "source": [
    "## Summary Statistics"
   ]
  },
  {
   "cell_type": "markdown",
   "id": "3007c5bd",
   "metadata": {},
   "source": [
    "Now let's compute some summary statistics for the titanic data. For the numerical variables 'Fare' and 'Age' compute and print the min, max, mean, median, variance and standard deviations using the corresponding Python commands. "
   ]
  },
  {
   "cell_type": "code",
   "execution_count": 167,
   "id": "6e9fd6fd",
   "metadata": {},
   "outputs": [
    {
     "name": "stdout",
     "output_type": "stream",
     "text": [
      "Age min: 0.42\n",
      "Age max: 80.0\n",
      "Age mean: 29.471443066516347\n",
      "Age median: 28.0\n",
      "Age variance: 199.42829701227413\n",
      "Age standard deviation: 14.12190840546256\n"
     ]
    }
   ],
   "source": [
    "#compute and print summary stats of Age\n",
    "age_min = T.Age.min()\n",
    "age_max = T.Age.max()\n",
    "age_mean = T.Age.mean()\n",
    "age_median = T.Age.median()\n",
    "age_variance = T.Age.var()\n",
    "age_std = T.Age.std()\n",
    "\n",
    "print(f'Age min: {age_min}')\n",
    "print(f'Age max: {age_max}')\n",
    "print(f'Age mean: {age_mean}')\n",
    "print(f'Age median: {age_median}')\n",
    "print(f'Age variance: {age_variance}')\n",
    "print(f'Age standard deviation: {age_std}')"
   ]
  },
  {
   "cell_type": "code",
   "execution_count": null,
   "id": "427d8b98",
   "metadata": {},
   "outputs": [],
   "source": [
    "#compute and print summary stats of Fare\n",
    "#compute and print summary stats of Age\n",
    "fare_min = T.Fare.min()\n",
    "fare_max = T.Fare.max()\n",
    "fare_mean = T.Fare.mean()\n",
    "fare_median = T.Fare.median()\n",
    "fare_variance = T.Fare.var()\n",
    "fare_std = T.Fare.std()\n",
    "\n",
    "print(f'Fare min: {fare_min}')\n",
    "print(f'Fare max: {fare_max}')\n",
    "print(f'Fare mean: {fare_mean}')\n",
    "print(f'Fare median: {fare_median}')\n",
    "print(f'Fare variance: {fare_variance}')\n",
    "print(f'Fare standard deviation: {fare_std}')"
   ]
  },
  {
   "cell_type": "markdown",
   "id": "10b0b867",
   "metadata": {},
   "source": [
    "Use numpy's ```cov``` command to compute the covariance matrix of the three variables (features) Age, Fare, Ticket class. Be areful with the syntax used. We recommend you have a look at the documentation of the command: https://numpy.org/doc/stable/reference/generated/numpy.cov.html"
   ]
  },
  {
   "cell_type": "code",
   "execution_count": 182,
   "id": "ce3b3118",
   "metadata": {},
   "outputs": [],
   "source": [
    "#your code\n",
    "\n",
    "combined_columns = np.vstack((T.Age,T.Fare,T.Pclass))\n",
    "covariance = np.cov(combined_columns)\n"
   ]
  },
  {
   "cell_type": "markdown",
   "id": "0a625515",
   "metadata": {},
   "source": [
    "Similarly, use numpy's ```corrcoef``` command to compute the cthe Pearson correlation coefficient matrix of these classes. Look at the off-diagonal elements of this matrix. Which pairs of variable are most/least correlated with eachother?"
   ]
  },
  {
   "cell_type": "code",
   "execution_count": 184,
   "id": "2896a689",
   "metadata": {},
   "outputs": [
    {
     "name": "stdout",
     "output_type": "stream",
     "text": [
      "[[ 1.          0.11232864 -0.39149161]\n",
      " [ 0.11232864  1.         -0.54891936]\n",
      " [-0.39149161 -0.54891936  1.        ]]\n"
     ]
    }
   ],
   "source": [
    "#your code\n",
    "pcc = np.corrcoef(combined_columns)\n",
    "print(pcc)"
   ]
  },
  {
   "cell_type": "markdown",
   "id": "af35935d",
   "metadata": {},
   "source": [
    "Now use pandas' ```hist``` command to plot the ditribution of passenger ages (NB: you can specify the number of histogram bins explicitly within this command). Repeat this procedure for the variables Fare and ticket class."
   ]
  },
  {
   "cell_type": "code",
   "execution_count": 188,
   "id": "3edd2a80",
   "metadata": {},
   "outputs": [
    {
     "data": {
      "text/plain": [
       "<Axes: >"
      ]
     },
     "execution_count": 188,
     "metadata": {},
     "output_type": "execute_result"
    },
    {
     "data": {
      "image/png": "[encoded data removed]",
      "text/plain": [
       "<Figure size 640x480 with 1 Axes>"
      ]
     },
     "metadata": {},
     "output_type": "display_data"
    }
   ],
   "source": [
    "#histogram of Age\n",
    "T.Age.hist()"
   ]
  },
  {
   "cell_type": "code",
   "execution_count": 189,
   "id": "80d15c48",
   "metadata": {},
   "outputs": [
    {
     "data": {
      "text/plain": [
       "<Axes: >"
      ]
     },
     "execution_count": 189,
     "metadata": {},
     "output_type": "execute_result"
    },
    {
     "data": {
      "image/png": "[encoded data removed]",
      "text/plain": [
       "<Figure size 640x480 with 1 Axes>"
      ]
     },
     "metadata": {},
     "output_type": "display_data"
    }
   ],
   "source": [
    "#histogram of Fare\n",
    "T.Fare.hist()"
   ]
  },
  {
   "cell_type": "code",
   "execution_count": 190,
   "id": "f64f7a71",
   "metadata": {},
   "outputs": [
    {
     "data": {
      "text/plain": [
       "<Axes: >"
      ]
     },
     "execution_count": 190,
     "metadata": {},
     "output_type": "execute_result"
    },
    {
     "data": {
      "image/png": "[encoded data removed]",
      "text/plain": [
       "<Figure size 640x480 with 1 Axes>"
      ]
     },
     "metadata": {},
     "output_type": "display_data"
    }
   ],
   "source": [
    "#histogram of Ticket class\n",
    "T.Pclass.hist()"
   ]
  },
  {
   "cell_type": "markdown",
   "id": "a8435ee9",
   "metadata": {},
   "source": [
    "Finally, note that pandas has the command ```describe()``` which can be used to give some summary statistics for an input table of data. Use this command for the titanic table."
   ]
  },
  {
   "cell_type": "code",
   "execution_count": 191,
   "id": "aba12776",
   "metadata": {},
   "outputs": [
    {
     "data": {
      "text/html": [
       "<div>\n",
       "<style scoped>\n",
       "    .dataframe tbody tr th:only-of-type {\n",
       "        vertical-align: middle;\n",
       "    }\n",
       "\n",
       "    .dataframe tbody tr th {\n",
       "        vertical-align: top;\n",
       "    }\n",
       "\n",
       "    .dataframe thead th {\n",
       "        text-align: right;\n",
       "    }\n",
       "</style>\n",
       "<table border=\"1\" class=\"dataframe\">\n",
       "  <thead>\n",
       "    <tr style=\"text-align: right;\">\n",
       "      <th></th>\n",
       "      <th>Survived</th>\n",
       "      <th>Pclass</th>\n",
       "      <th>Age</th>\n",
       "      <th>Siblings/Spouses Aboard</th>\n",
       "      <th>Parents/Children Aboard</th>\n",
       "      <th>Fare</th>\n",
       "    </tr>\n",
       "  </thead>\n",
       "  <tbody>\n",
       "    <tr>\n",
       "      <th>count</th>\n",
       "      <td>887.000000</td>\n",
       "      <td>887.000000</td>\n",
       "      <td>887.000000</td>\n",
       "      <td>887.000000</td>\n",
       "      <td>887.000000</td>\n",
       "      <td>887.00000</td>\n",
       "    </tr>\n",
       "    <tr>\n",
       "      <th>mean</th>\n",
       "      <td>0.385569</td>\n",
       "      <td>2.305524</td>\n",
       "      <td>29.471443</td>\n",
       "      <td>0.525366</td>\n",
       "      <td>0.383315</td>\n",
       "      <td>32.30542</td>\n",
       "    </tr>\n",
       "    <tr>\n",
       "      <th>std</th>\n",
       "      <td>0.487004</td>\n",
       "      <td>0.836662</td>\n",
       "      <td>14.121908</td>\n",
       "      <td>1.104669</td>\n",
       "      <td>0.807466</td>\n",
       "      <td>49.78204</td>\n",
       "    </tr>\n",
       "    <tr>\n",
       "      <th>min</th>\n",
       "      <td>0.000000</td>\n",
       "      <td>1.000000</td>\n",
       "      <td>0.420000</td>\n",
       "      <td>0.000000</td>\n",
       "      <td>0.000000</td>\n",
       "      <td>0.00000</td>\n",
       "    </tr>\n",
       "    <tr>\n",
       "      <th>25%</th>\n",
       "      <td>0.000000</td>\n",
       "      <td>2.000000</td>\n",
       "      <td>20.250000</td>\n",
       "      <td>0.000000</td>\n",
       "      <td>0.000000</td>\n",
       "      <td>7.92500</td>\n",
       "    </tr>\n",
       "    <tr>\n",
       "      <th>50%</th>\n",
       "      <td>0.000000</td>\n",
       "      <td>3.000000</td>\n",
       "      <td>28.000000</td>\n",
       "      <td>0.000000</td>\n",
       "      <td>0.000000</td>\n",
       "      <td>14.45420</td>\n",
       "    </tr>\n",
       "    <tr>\n",
       "      <th>75%</th>\n",
       "      <td>1.000000</td>\n",
       "      <td>3.000000</td>\n",
       "      <td>38.000000</td>\n",
       "      <td>1.000000</td>\n",
       "      <td>0.000000</td>\n",
       "      <td>31.13750</td>\n",
       "    </tr>\n",
       "    <tr>\n",
       "      <th>max</th>\n",
       "      <td>1.000000</td>\n",
       "      <td>3.000000</td>\n",
       "      <td>80.000000</td>\n",
       "      <td>8.000000</td>\n",
       "      <td>6.000000</td>\n",
       "      <td>512.32920</td>\n",
       "    </tr>\n",
       "  </tbody>\n",
       "</table>\n",
       "</div>"
      ],
      "text/plain": [
       "         Survived      Pclass         Age  Siblings/Spouses Aboard  \\\n",
       "count  887.000000  887.000000  887.000000               887.000000   \n",
       "mean     0.385569    2.305524   29.471443                 0.525366   \n",
       "std      0.487004    0.836662   14.121908                 1.104669   \n",
       "min      0.000000    1.000000    0.420000                 0.000000   \n",
       "25%      0.000000    2.000000   20.250000                 0.000000   \n",
       "50%      0.000000    3.000000   28.000000                 0.000000   \n",
       "75%      1.000000    3.000000   38.000000                 1.000000   \n",
       "max      1.000000    3.000000   80.000000                 8.000000   \n",
       "\n",
       "       Parents/Children Aboard       Fare  \n",
       "count               887.000000  887.00000  \n",
       "mean                  0.383315   32.30542  \n",
       "std                   0.807466   49.78204  \n",
       "min                   0.000000    0.00000  \n",
       "25%                   0.000000    7.92500  \n",
       "50%                   0.000000   14.45420  \n",
       "75%                   0.000000   31.13750  \n",
       "max                   6.000000  512.32920  "
      ]
     },
     "execution_count": 191,
     "metadata": {},
     "output_type": "execute_result"
    }
   ],
   "source": [
    "T.describe()"
   ]
  }
 ],
 "metadata": {
  "kernelspec": {
   "display_name": "Python 3",
   "language": "python",
   "name": "python3"
  },
  "language_info": {
   "codemirror_mode": {
    "name": "ipython",
    "version": 3
   },
   "file_extension": ".py",
   "mimetype": "text/x-python",
   "name": "python",
   "nbconvert_exporter": "python",
   "pygments_lexer": "ipython3",
   "version": "3.13.0"
  }
 },
 "nbformat": 4,
 "nbformat_minor": 5
}
