{
 "cells": [
  {
   "cell_type": "markdown",
   "id": "6904fdf6",
   "metadata": {},
   "source": [
    "# Week 1 lab 2: Data preprocessing and visualisation"
   ]
  },
  {
   "cell_type": "markdown",
   "id": "c047ec59",
   "metadata": {},
   "source": [
    "__This lab__: The aim is to practice a few preprocessing (reshaping/finding outliers/marginalisation) and visualisation methods on the Central England Temperature dataset available to download at: https://www.metoffice.gov.uk/hadobs/hadcet/data/download.html.\n",
    "\n",
    "An introduction to basics of Pandas is available at https://github.com/jakevdp/PythonDataScienceHandbook/blob/master/notebooks/03.00-Introduction-to-Pandas.ipynb,\n",
    "and for Matplotlib at https://github.com/jakevdp/PythonDataScienceHandbook/blob/master/notebooks/04.00-Introduction-To-Matplotlib.ipynb which are highly recommended during attempting the lab."
   ]
  },
  {
   "cell_type": "code",
   "execution_count": null,
   "id": "a2b9bfd0",
   "metadata": {},
   "outputs": [],
   "source": [
    "# Clean the workspace and screen\n",
    "%clear\n",
    "%reset\n",
    "import matplotlib.pyplot as plt\n",
    "plt.close('all')"
   ]
  },
  {
   "cell_type": "code",
   "execution_count": null,
   "id": "e0414434",
   "metadata": {},
   "outputs": [],
   "source": [
    "import pandas as pd\n",
    "import numpy as np"
   ]
  },
  {
   "cell_type": "markdown",
   "id": "39739329",
   "metadata": {},
   "source": [
    "## Import .dat formated data"
   ]
  },
  {
   "cell_type": "markdown",
   "id": "55fc431c",
   "metadata": {},
   "source": [
    "The Central England Temperature dataset is stored in a file named \"cetdl1772on.dat\" that you should have now downloaded it from the link above. Use pandas's ```read_fwf``` command to load this data to memory. Note that we need to specify that the dataset has no header, i.e. ```pd.read_fwf('cetdl1772on.dat', header = None, widths = [5]*14)```. The syntax of this command may seem confusing but we recommend you to have a look at the documentation: https://pandas.pydata.org/docs/reference/api/pandas.read_fwf.html.\n",
    "The raw data is stored in a 2D array/matrix. Print out the number of rows and columns of this data."
   ]
  },
  {
   "cell_type": "code",
   "execution_count": null,
   "id": "8f149ac7",
   "metadata": {},
   "outputs": [],
   "source": [
    "data_raw = #your code\n",
    "\n",
    "# below print data rows and cols\n"
   ]
  },
  {
   "cell_type": "markdown",
   "id": "505687e6",
   "metadata": {},
   "source": [
    "## Exctract years, days, temperature informations"
   ]
  },
  {
   "cell_type": "markdown",
   "id": "6c5276fa",
   "metadata": {},
   "source": [
    "The data's 2D array has mixed information about the day and year numbers and the temperature values. Extract new vectors or matrices from this data which include information only about the years, days, temperatures e.g., for temperatures you need to extract the last 12 columns of this data into a new matrix. Also scale down the temperatures by factor 10, in order to make them in Celsius. Print the range of years and days that this data covers. Also print the first 10 rows of the extracted temperature matrix."
   ]
  },
  {
   "cell_type": "code",
   "execution_count": null,
   "id": "ca01a233",
   "metadata": {},
   "outputs": [],
   "source": [
    "years =  # your code\n",
    "days  = \n",
    "temp  = \n",
    "\n",
    "# below print the range of years and days, also the first 10 rows of the extracted temperature matrix.\n"
   ]
  },
  {
   "cell_type": "markdown",
   "id": "8d347422",
   "metadata": {},
   "source": [
    "# Missing data/outliers: replacing by NaN"
   ]
  },
  {
   "cell_type": "markdown",
   "id": "c68c06c7",
   "metadata": {},
   "source": [
    "Temperature data contains outliers because some missing temperature values (some days in year 2022, also the 30th or 31st day of some months) had been originally filled as -99 degree Celsius. Find and replace these values by nan (Not a Number) variable."
   ]
  },
  {
   "cell_type": "code",
   "execution_count": null,
   "id": "6e37ab1d",
   "metadata": {},
   "outputs": [],
   "source": []
  },
  {
   "cell_type": "markdown",
   "id": "911ab0ca",
   "metadata": {},
   "source": [
    "Use numpy's ```reshape``` command to reshape data into a 3D array: first coordinate days, second years, third months. Let every month have 31 days (as currently set by the raw data). Note that you need to format your data as a numpy array first. Find more information about reshaping here: https://numpy.org/doc/stable/reference/generated/numpy.reshape.html"
   ]
  },
  {
   "cell_type": "code",
   "execution_count": null,
   "id": "7fd69b5c",
   "metadata": {},
   "outputs": [],
   "source": [
    "temp = temp.to_numpy().reshape((31, len(years), 12), order='F')"
   ]
  },
  {
   "cell_type": "markdown",
   "id": "5c82091b",
   "metadata": {},
   "source": [
    "# Marginalisation"
   ]
  },
  {
   "cell_type": "markdown",
   "id": "89b7a59e",
   "metadata": {},
   "source": [
    "Use matplotlib's ```plot``` command with appropriate title, axis-labelling tools (see details at: https://matplotlib.org/3.5.3/api/_as_gen/matplotlib.pyplot.html or Chapter 4 of this book: https://github.com/jakevdp/PythonDataScienceHandbook/blob/master/notebooks/04.00-Introduction-To-Matplotlib.ipynb) in order to plot together the yearly Average and Median temperatures. Use the numpy's ```nanmean``` and ```nanmedian``` commands when computing the mean and median values, respectively, so to ignore the outliers/missing values. Can you see a trend in your plots e.g. is it getting warmer every year?"
   ]
  },
  {
   "cell_type": "code",
   "execution_count": null,
   "id": "ed689487",
   "metadata": {},
   "outputs": [],
   "source": []
  },
  {
   "cell_type": "markdown",
   "id": "b25dd15f",
   "metadata": {},
   "source": [
    "Now, open a new figure and in two separate subplots, plot the monthly average temperatures and the standard deviations. (Again, use ```nanmean``` and ```nanstd``` commands for computing the mean and std, respectively).  "
   ]
  },
  {
   "cell_type": "code",
   "execution_count": null,
   "id": "082df739",
   "metadata": {},
   "outputs": [],
   "source": [
    "# Compute mean and STD using omitnan option\n",
    "\n",
    "# plot Mean and STD separately\n"
   ]
  },
  {
   "cell_type": "markdown",
   "id": "81827206",
   "metadata": {},
   "source": [
    "Repeat this in a new figure by using matplotlib's ```errorbar``` function, to plot the monthly means in solid line and the standard deviations as errorbars. Can you observe from these plots which month is the warmest on average, and which has the lowest variation in the temperature?"
   ]
  },
  {
   "cell_type": "code",
   "execution_count": null,
   "id": "6f7af61f",
   "metadata": {},
   "outputs": [],
   "source": [
    "# plot Mean and STD jointly using errorbar\n"
   ]
  },
  {
   "cell_type": "markdown",
   "id": "3a1765ed",
   "metadata": {},
   "source": [
    "# Visualising 2D arrays"
   ]
  },
  {
   "cell_type": "markdown",
   "id": "c778cc20",
   "metadata": {},
   "source": [
    "Reshape data into a 2D matrix: rows (years), cols (timeseries of the days of a year). NB: the order of reshaping Fortran (e.g. matlab) vs Numpy's default are different. To fill data in a reshaped array, Fortran starts from the first axis/dimension, then it goes to fill-up the second axis/dimension, then the third, and so on. The Numpy's default is reverse. You can specify this reshaping format in numpy. Read Numpy's documentation on ```reshape```: https://numpy.org/doc/stable/reference/generated/numpy.reshape.html.\n",
    "\n",
    "Now, use matplotlib's ```imshow``` command to visualise this reshaped 2D array. Add colorbar and appropriate labelling to the x-y axis, so to clarify the displayed image's colour values and also the labels of each dimension. (see details at: https://matplotlib.org/stable/api/_as_gen/matplotlib.pyplot.imshow.html). How consistent was the trend of \"warmer summers than winters\" across all the past years?"
   ]
  },
  {
   "cell_type": "code",
   "execution_count": null,
   "id": "0cc3dbef",
   "metadata": {},
   "outputs": [],
   "source": []
  },
  {
   "cell_type": "markdown",
   "id": "2cfcc7d1",
   "metadata": {},
   "source": [
    "Choose a year (e.g., the third year in your array). Then plot the long vector (time-series) of temperatures for that year. Again, use appropriate axis-labelling, plot-titling tools along with your visualisation."
   ]
  },
  {
   "cell_type": "code",
   "execution_count": null,
   "id": "f5843ed5",
   "metadata": {},
   "outputs": [],
   "source": []
  },
  {
   "cell_type": "markdown",
   "id": "5e0d0941",
   "metadata": {},
   "source": [
    "# Histograms"
   ]
  },
  {
   "cell_type": "markdown",
   "id": "1980ddcc",
   "metadata": {},
   "source": [
    "Finally, let's visualise, through histograms, the temperature distributions of the months January and August to make sure that we see a difference. \n",
    "For this create two long vectors (e.g. using numpy's ```flatten``` command) containing temperature data (all days and years) for January and August. Open a new figure and use matplotlib's ```hist``` command to display the temperature distributions of these two months in two different colours. Use the legend command to specify in the figure which colour shows the histogram of which months."
   ]
  },
  {
   "cell_type": "code",
   "execution_count": null,
   "id": "3b63bc34",
   "metadata": {},
   "outputs": [],
   "source": []
  }
 ],
 "metadata": {
  "kernelspec": {
   "display_name": "Python 3 (ipykernel)",
   "language": "python",
   "name": "python3"
  },
  "language_info": {
   "codemirror_mode": {
    "name": "ipython",
    "version": 3
   },
   "file_extension": ".py",
   "mimetype": "text/x-python",
   "name": "python",
   "nbconvert_exporter": "python",
   "pygments_lexer": "ipython3",
   "version": "3.9.16"
  }
 },
 "nbformat": 4,
 "nbformat_minor": 5
}
