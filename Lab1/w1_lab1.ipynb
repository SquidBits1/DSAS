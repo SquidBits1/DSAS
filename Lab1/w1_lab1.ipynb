{
 "cells": [
  {
   "cell_type": "markdown",
   "id": "4eeffb5a",
   "metadata": {},
   "source": [
    "## Week 1 lab 1: Data tables and summary statistics"
   ]
  },
  {
   "cell_type": "markdown",
   "id": "ac568485",
   "metadata": {},
   "source": [
    "### General note \n",
    "Lab exercises in the first part of this unit (\"Data Science\") were designed on Python having the __pandas__, __numpy__, __matplotlib__ and __sklearn__ packages installed. It is possible that for some commands you need to have the latest version of these packages/libraries installed on your machine. \n",
    "Finally, it is likely that you are new to some of the packages/commands/objects/data structures used for solving the lab excersies. In this case it is recommended to search for the documentations of these on the corresponding package's (e.g. numpy, pandas etc) website to familiarise yourself with these commands. An nice introduction to the basics of using the above Python packages (in the form of Jupyter notebooks) are also included in this online, free book which is highly recommended to look if you're new to them: https://github.com/jakevdp/PythonDataScienceHandbook.\n",
    "\n",
    "The unit tutors will also be available to provide help in the lab and also on the unit's online forum. \n",
    "\n",
    "__This lab__: During this exercise you will practice skills to basic data import and analysis using __pandas__ and __numpy__ packages. \n"
   ]
  },
  {
   "cell_type": "code",
   "execution_count": null,
   "id": "8de21de8",
   "metadata": {},
   "outputs": [],
   "source": [
    "# Clean the workspace and screen\n",
    "%clear\n",
    "%reset\n",
    "import matplotlib.pyplot as plt\n",
    "plt.close('all')"
   ]
  },
  {
   "cell_type": "code",
   "execution_count": null,
   "id": "9b5645ff",
   "metadata": {},
   "outputs": [],
   "source": [
    "import pandas as pd\n",
    "import numpy as np"
   ]
  },
  {
   "cell_type": "markdown",
   "id": "42d295d3",
   "metadata": {},
   "source": [
    "## Loading table data"
   ]
  },
  {
   "cell_type": "markdown",
   "id": "c1de89a3",
   "metadata": {},
   "source": [
    "Load (read) the titanic.csv file into the Python's workspace. Python can read csv tables with the help of pandas. For this use pandas' ```read_csv``` command i.e. ```pd.read_csv('titanic.csv')```, to load data into a pandas' table object (here, the table is named T). "
   ]
  },
  {
   "cell_type": "code",
   "execution_count": null,
   "id": "0bfab6b2",
   "metadata": {},
   "outputs": [],
   "source": [
    "T = #your code"
   ]
  },
  {
   "cell_type": "markdown",
   "id": "7f07f51f",
   "metadata": {},
   "source": [
    "Use pandas's ```head``` command to display the head of this dataset i.e. a few first rows of the table (you can specify the number of elements to see by passing an natural number as an argument). You should be able to see the variables each column represents alongside their values in each row (i.e., each sample/ passenger item)."
   ]
  },
  {
   "cell_type": "code",
   "execution_count": null,
   "id": "7cdc2b18",
   "metadata": {},
   "outputs": [],
   "source": [
    "T.head(8)"
   ]
  },
  {
   "cell_type": "markdown",
   "id": "73c62900",
   "metadata": {},
   "source": [
    "## Accessing the table columns/rows"
   ]
  },
  {
   "cell_type": "markdown",
   "id": "7c0307ab",
   "metadata": {},
   "source": [
    "To access entries of each column you can either use their column index number or the column's name in the table. Assume you want to access the table's column about the journey outcome, i.e. the variable ```Survived```, and put it in a new variable ```y```. Then using the column name you can run ```y = T['Survived']``` or ```y = T.Survived```. Alternatively, since Survived is the first columns of this table, you can access it via column indexing using ```iloc``` i.e. ```y = T.iloc[:,0]```. You can also do slicing i.e. ```y = T.iloc[:,[0,1]]``` would extract the first 2 columns of this table. The output will be another table object because the columns could potentially have mixed variable types (numerical, strings etc). If all columns are numerical values, then you can turn ```y``` into a matrix using ```to_numpy()``` command i.e. ```y = T.iloc[:,[0,1]].to_numpy()```. (More details on data type conversion commands can be found at: https://pandas.pydata.org/docs/user_guide/indexing.html). Similarly, ```y = T.iloc[:,3:-1].to_numpy()``` would extract columns 4 and onward till the end, into a matrix y. Row indexing is also possible. For instance, ```y = T.iloc([0, 4, 5],:)``` would extract table rows 1 5 and 6 into a new sub-table."
   ]
  },
  {
   "cell_type": "markdown",
   "id": "872ce1b1",
   "metadata": {},
   "source": [
    "Now, use numpy's ```randint``` command to sub-select 5 passengers (rows of the table) at random and display their data. NB: randint might have repetitions, and thefore another alternative is to use numpy's ```permutation``` command."
   ]
  },
  {
   "cell_type": "code",
   "execution_count": null,
   "id": "68422973-5b33-4d3c-8452-99c8f089ee25",
   "metadata": {},
   "outputs": [],
   "source": [
    "#your code"
   ]
  },
  {
   "cell_type": "markdown",
   "id": "dc30c724",
   "metadata": {},
   "source": [
    "Use pandas's logical commands (see: https://pandas.pydata.org/docs/user_guide/indexing.html) along with the table access operations above to create a binary vector named first (with size equal to the number of passengers) whose entries are 1 for passengers that had a 1st class ticket and zero otherwise i.e. runing ```first = (T['Pclass']==1)```. This would create a form of an indicator vector. Similarly, create binary indicator vectors 'second' and 'third' for passengers on 2nd and 3rd class tickets. Also create indicator vectors 'male' and 'female' e.g. ```male = (T['Sex']==\"male\")``` and ```female = (not male)```. Similarly, create an indicator vector for the 'survived' passengers. Finally, create new indicator vectors 'child', 'young' and 'old' for passengers less than 18, between 18-40, and more than 40 year old, respectively."
   ]
  },
  {
   "cell_type": "code",
   "execution_count": null,
   "id": "15e8c1c2",
   "metadata": {},
   "outputs": [],
   "source": [
    "first  = #your code\n",
    "second = \n",
    "third  = \n",
    "male   = \n",
    "female = \n",
    "survived = \n",
    "child  = \n",
    "young  = \n",
    "old    = "
   ]
  },
  {
   "cell_type": "markdown",
   "id": "1ba0bcc7",
   "metadata": {},
   "source": [
    "Use Python's boolean indexing on the indicator vectors built above, to build various sets of indices for the passengers that were on first, second, third class tickets i.e. ```first_idx = [index for index in range(len(T)) if first[index]]```. Similarly repeat this for 'male', 'female', 'survived', and 'child', 'young', 'old' passengers"
   ]
  },
  {
   "cell_type": "code",
   "execution_count": null,
   "id": "2c13c1ae",
   "metadata": {},
   "outputs": [],
   "source": [
    "first_idx  = #your code\n",
    "second_idx = \n",
    "third_idx  = \n",
    "male_idx   = \n",
    "female_idx = \n",
    "survived_idx = \n",
    "child_idx  = \n",
    "young_idx  = \n",
    "old_idx    = "
   ]
  },
  {
   "cell_type": "markdown",
   "id": "4ea6bfcf",
   "metadata": {},
   "source": [
    "Use Python's set operation commands (e.g. intersection, union, difference, ...) to extract subset of indicies e.g. for passengers that were male and didn't survived. Use extracted subsets to compute and print out the following risk factors: the precentage of victims among male and female passnegers e.g. the probability that a passenger did not survived given that he was male. Also output the precentage (probability) of victims among the first, second and third class passnegers, as well as the children, young, and old passengers."
   ]
  },
  {
   "cell_type": "code",
   "execution_count": null,
   "id": "9ef5f3ae",
   "metadata": {},
   "outputs": [],
   "source": [
    "# write code to compute variables risk_male, risk_female, risk_first, risk_second, risk_third, risk_child, risk_young, risk_old,  "
   ]
  },
  {
   "cell_type": "code",
   "execution_count": null,
   "id": "7aa61ac1-c78e-4744-bba1-8222eeb31159",
   "metadata": {},
   "outputs": [],
   "source": [
    "#display risk values below\n",
    "print('Risk male = %.3f \\n' % risk_male)\n",
    "print('Risk female = %.3f \\n' % risk_female)\n",
    "print('Risk first = %.3f \\n' % risk_first)\n",
    "print('Risk second = %.3f \\n' % risk_second)\n",
    "print('Risk third = %.3f \\n' % risk_third)\n",
    "print('Risk child = %.3f \\n' % risk_child)\n",
    "print('Risk young = %.3f \\n' % risk_young)\n",
    "print('Risk old= %.3f \\n' % risk_old)"
   ]
  },
  {
   "cell_type": "markdown",
   "id": "67b4a57d",
   "metadata": {},
   "source": [
    "## Summary Statistics"
   ]
  },
  {
   "cell_type": "markdown",
   "id": "3007c5bd",
   "metadata": {},
   "source": [
    "Now let's compute some summary statistics for the titanic data. For the numerical variables 'Fare' and 'Age' compute and print the min, max, mean, median, variance and standard deviations using the corresponding Python commands. "
   ]
  },
  {
   "cell_type": "code",
   "execution_count": null,
   "id": "6e9fd6fd",
   "metadata": {},
   "outputs": [],
   "source": [
    "#compute and print summary stats of Age"
   ]
  },
  {
   "cell_type": "code",
   "execution_count": null,
   "id": "427d8b98",
   "metadata": {},
   "outputs": [],
   "source": [
    "#compute and print summary stats of Fare"
   ]
  },
  {
   "cell_type": "markdown",
   "id": "10b0b867",
   "metadata": {},
   "source": [
    "Use numpy's ```cov``` command to compute the covariance matrix of the three variables (features) Age, Fare, Ticket class. Be areful with the syntax used. We recommend you have a look at the documentation of the command: https://numpy.org/doc/stable/reference/generated/numpy.cov.html"
   ]
  },
  {
   "cell_type": "code",
   "execution_count": null,
   "id": "ce3b3118",
   "metadata": {},
   "outputs": [],
   "source": [
    "#your code"
   ]
  },
  {
   "cell_type": "markdown",
   "id": "0a625515",
   "metadata": {},
   "source": [
    "Similarly, use numpy's ```corrcoef``` command to compute the cthe Pearson correlation coefficient matrix of these classes. Look at the off-diagonal elements of this matrix. Which pairs of variable are most/least correlated with eachother?"
   ]
  },
  {
   "cell_type": "code",
   "execution_count": null,
   "id": "2896a689",
   "metadata": {},
   "outputs": [],
   "source": [
    "#your code"
   ]
  },
  {
   "cell_type": "markdown",
   "id": "af35935d",
   "metadata": {},
   "source": [
    "Now use pandas' ```hist``` command to plot the ditribution of passenger ages (NB: you can specify the number of histogram bins explicitly within this command). Repeat this procedure for the variables Fare and ticket class."
   ]
  },
  {
   "cell_type": "code",
   "execution_count": null,
   "id": "3edd2a80",
   "metadata": {},
   "outputs": [],
   "source": [
    "#histogram of Age"
   ]
  },
  {
   "cell_type": "code",
   "execution_count": null,
   "id": "80d15c48",
   "metadata": {},
   "outputs": [],
   "source": [
    "#histogram of Fare"
   ]
  },
  {
   "cell_type": "code",
   "execution_count": null,
   "id": "f64f7a71",
   "metadata": {},
   "outputs": [],
   "source": [
    "#histogram of Ticket class"
   ]
  },
  {
   "cell_type": "markdown",
   "id": "a8435ee9",
   "metadata": {},
   "source": [
    "Finally, note that pandas has the command ```describe()``` which can be used to give some summary statistics for an input table of data. Use this command for the titanic table."
   ]
  },
  {
   "cell_type": "code",
   "execution_count": null,
   "id": "aba12776",
   "metadata": {},
   "outputs": [],
   "source": [
    "T.describe()"
   ]
  }
 ],
 "metadata": {
  "kernelspec": {
   "display_name": "Python 3 (ipykernel)",
   "language": "python",
   "name": "python3"
  },
  "language_info": {
   "codemirror_mode": {
    "name": "ipython",
    "version": 3
   },
   "file_extension": ".py",
   "mimetype": "text/x-python",
   "name": "python",
   "nbconvert_exporter": "python",
   "pygments_lexer": "ipython3",
   "version": "3.10.14"
  }
 },
 "nbformat": 4,
 "nbformat_minor": 5
}
